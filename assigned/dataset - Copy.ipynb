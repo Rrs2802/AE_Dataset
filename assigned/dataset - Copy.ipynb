{
 "cells": [
  {
   "cell_type": "code",
   "execution_count": 1,
   "metadata": {},
   "outputs": [],
   "source": [
    "import pandas as pd"
   ]
  },
  {
   "cell_type": "code",
   "execution_count": 2,
   "metadata": {},
   "outputs": [],
   "source": [
    "df = pd.read_csv(\"C:/Users/4nm20/OneDrive/Desktop/major_proj/assigned/N3_updated.csv\")\n",
    "\n"
   ]
  },
  {
   "cell_type": "code",
   "execution_count": 3,
   "metadata": {},
   "outputs": [
    {
     "name": "stdout",
     "output_type": "stream",
     "text": [
      "   Time1         A             B  Time2  Mech Data  new_column\n",
      "0   0.01  174000.0 -5.650000e-07   0.05   0.244506         NaN\n",
      "1   0.02   45600.0 -5.530000e-07   0.05   0.235940         NaN\n",
      "2   0.03  105000.0 -5.950000e-07   0.05   0.000133         NaN\n",
      "3   0.04   42900.0 -5.520000e-07   0.06   0.244506         NaN\n",
      "4   0.05   33000.0 -5.690000e-07   0.06   0.235940         NaN\n"
     ]
    }
   ],
   "source": [
    "print(df.head())"
   ]
  },
  {
   "cell_type": "code",
   "execution_count": 4,
   "metadata": {},
   "outputs": [
    {
     "name": "stdout",
     "output_type": "stream",
     "text": [
      "   Time1         A             B  Time2  Mech Data  new_column\n",
      "0   0.01  174000.0 -5.650000e-07   0.05   0.244506         NaN\n",
      "1   0.02   45600.0 -5.530000e-07   0.05   0.235940         NaN\n",
      "2   0.03  105000.0 -5.950000e-07   0.05   0.000133         NaN\n",
      "3   0.04   42900.0 -5.520000e-07   0.06   0.244506         NaN\n",
      "4   0.05   33000.0 -5.690000e-07   0.06   0.235940         NaN\n"
     ]
    }
   ],
   "source": [
    "df.Time2 = df.Time2.round(2)\n",
    "print(df.head())"
   ]
  },
  {
   "cell_type": "code",
   "execution_count": 6,
   "metadata": {},
   "outputs": [],
   "source": [
    "for index, row in df.iterrows():\n",
    "    first_col_value = row['Time1']  \n",
    "    third_col_value = row['Mech Data']"
   ]
  },
  {
   "cell_type": "code",
   "execution_count": 7,
   "metadata": {},
   "outputs": [],
   "source": [
    "df['new_column'] = None"
   ]
  },
  {
   "cell_type": "code",
   "execution_count": 8,
   "metadata": {},
   "outputs": [],
   "source": [
    "for index, row in df.iterrows():\n",
    "    matching_rows = df[df['Time2'] == row['Time1']]\n",
    "    if not matching_rows.empty:\n",
    "        matched_value = matching_rows.iloc[0]['Mech Data']\n",
    "        df.at[index, 'new_column'] = matched_value"
   ]
  },
  {
   "cell_type": "code",
   "execution_count": 9,
   "metadata": {},
   "outputs": [
    {
     "name": "stdout",
     "output_type": "stream",
     "text": [
      "        Time1         A             B  Time2  Mech Data new_column\n",
      "0        0.01  174000.0 -5.650000e-07   0.05   0.244506       None\n",
      "1        0.02   45600.0 -5.530000e-07   0.05   0.235940       None\n",
      "2        0.03  105000.0 -5.950000e-07   0.05   0.000133       None\n",
      "3        0.04   42900.0 -5.520000e-07   0.06   0.244506       None\n",
      "4        0.05   33000.0 -5.690000e-07   0.06   0.235940   0.244506\n",
      "...       ...       ...           ...    ...        ...        ...\n",
      "599995    NaN       NaN -1.260000e-07    NaN        NaN       None\n",
      "599996    NaN       NaN -1.240000e-07    NaN        NaN       None\n",
      "599997    NaN       NaN -1.370000e-07    NaN        NaN       None\n",
      "599998    NaN       NaN -1.270000e-07    NaN        NaN       None\n",
      "599999    NaN       NaN -1.350000e-07    NaN        NaN       None\n",
      "\n",
      "[600000 rows x 6 columns]\n"
     ]
    }
   ],
   "source": [
    "print(df)"
   ]
  },
  {
   "cell_type": "code",
   "execution_count": 10,
   "metadata": {},
   "outputs": [],
   "source": [
    "new_data = df[['Time1', 'Time2', 'Mech Data','new_column']]\n",
    "new_data.to_csv(\"updated_data.csv\", index=False)"
   ]
  },
  {
   "cell_type": "code",
   "execution_count": null,
   "metadata": {},
   "outputs": [],
   "source": [
    "\n"
   ]
  },
  {
   "cell_type": "code",
   "execution_count": null,
   "metadata": {},
   "outputs": [],
   "source": [
    "\n"
   ]
  },
  {
   "cell_type": "code",
   "execution_count": 11,
   "metadata": {},
   "outputs": [
    {
     "name": "stdout",
     "output_type": "stream",
     "text": [
      "Total rows:  600000\n",
      "Number of null values:  317347\n"
     ]
    }
   ],
   "source": [
    "null_count=df['new_column'].isnull().sum()\n",
    "num_rows=df.shape[0]\n",
    "print(\"Total rows: \",num_rows)\n",
    "print(\"Number of null values: \",null_count)"
   ]
  },
  {
   "cell_type": "code",
   "execution_count": 12,
   "metadata": {},
   "outputs": [
    {
     "name": "stdout",
     "output_type": "stream",
     "text": [
      "Percentage of null values:  52.89116666666666\n"
     ]
    }
   ],
   "source": [
    "null_percent=df['new_column'].isnull().mean()*100\n",
    "print(\"Percentage of null values: \",null_percent)"
   ]
  },
  {
   "cell_type": "code",
   "execution_count": 14,
   "metadata": {},
   "outputs": [
    {
     "name": "stdout",
     "output_type": "stream",
     "text": [
      "Number of empty entries in 'C': 317347\n"
     ]
    }
   ],
   "source": [
    "import pandas as pd\n",
    "\n",
    "# Load the CSV file into a Pandas DataFrame\n",
    "file_path = \"C:/Users/4nm20/OneDrive/Desktop/major_proj/assigned/N3_updated.csv\"  # Replace with the path to your CSV file\n",
    "df = pd.read_csv(file_path)\n",
    "\n",
    "# Replace 'column_name' with the name of the column you want to check\n",
    "column_name = \"C\"\n",
    "\n",
    "# Count the number of missing values in the specified column\n",
    "empty_entries_count = df[column_name].isnull().sum()\n",
    "\n",
    "# Print the result\n",
    "print(f\"Number of empty entries in '{column_name}': {empty_entries_count}\")\n"
   ]
  },
  {
   "cell_type": "code",
   "execution_count": 15,
   "metadata": {},
   "outputs": [
    {
     "name": "stdout",
     "output_type": "stream",
     "text": [
      "Total rows in the CSV file: 600000\n",
      "Number of empty entries in 'C' column: 317347\n"
     ]
    }
   ],
   "source": [
    "import pandas as pd\n",
    "\n",
    "# Replace 'your_file.csv' with the path to your CSV file\n",
    "file_path = \"C:/Users/4nm20/OneDrive/Desktop/major_proj/assigned/N3_updated.csv\"\n",
    "\n",
    "# Replace 'column_name' with the name of the column you want to check\n",
    "column_name = 'C'\n",
    "\n",
    "# Read the CSV file into a DataFrame\n",
    "df = pd.read_csv(file_path)\n",
    "\n",
    "# Get the total number of rows in the DataFrame\n",
    "total_rows = len(df)\n",
    "\n",
    "# Check for empty entries in the specified column\n",
    "empty_entries = df[column_name].isnull().sum()\n",
    "\n",
    "# Print the results\n",
    "print(f\"Total rows in the CSV file: {total_rows}\")\n",
    "print(f\"Number of empty entries in '{column_name}' column: {empty_entries}\")\n"
   ]
  },
  {
   "cell_type": "code",
   "execution_count": 16,
   "metadata": {},
   "outputs": [
    {
     "name": "stdout",
     "output_type": "stream",
     "text": [
      "          Time1        A             B         C\n",
      "4          0.05  33000.0 -5.690000e-07  0.244506\n",
      "5          0.06  26900.0 -5.610000e-07  0.244506\n",
      "6          0.07  23200.0 -5.240000e-07  0.000133\n",
      "7          0.08  21200.0 -5.710000e-07  0.244506\n",
      "8          0.09  20100.0 -5.110000e-07  0.244506\n",
      "...         ...      ...           ...       ...\n",
      "422031  4220.35  19800.0 -1.170000e-07  0.113795\n",
      "422033  4220.37  20100.0 -1.380000e-07  0.113795\n",
      "422034  4220.38  19800.0 -1.230000e-07  0.113795\n",
      "422036  4220.40  21300.0 -1.190000e-07  0.113795\n",
      "422037  4220.41  23000.0 -1.350000e-07  0.113675\n",
      "\n",
      "[282653 rows x 4 columns]\n"
     ]
    }
   ],
   "source": [
    "import pandas as pd\n",
    "\n",
    "# Define the path to your CSV file\n",
    "csv_file_path = \"C:/Users/4nm20/OneDrive/Desktop/major_proj/assigned/N3_updated.csv\"\n",
    "\n",
    "# Read the CSV file into a DataFrame\n",
    "df = pd.read_csv(csv_file_path)\n",
    "\n",
    "# Specify the column where you want to remove rows with null values\n",
    "column_name = 'C'\n",
    "\n",
    "# Remove rows with null values in the specified column\n",
    "df.dropna(subset=[column_name], inplace=True)\n",
    "\n",
    "# Save the resulting DataFrame back to a new CSV file (optional)\n",
    "output_csv_path = 'new_file.csv'\n",
    "df.to_csv(output_csv_path, index=False)\n",
    "\n",
    "# Display the resulting DataFrame\n",
    "print(df)\n",
    "\n"
   ]
  },
  {
   "cell_type": "code",
   "execution_count": null,
   "metadata": {},
   "outputs": [],
   "source": []
  },
  {
   "cell_type": "code",
   "execution_count": 19,
   "metadata": {},
   "outputs": [
    {
     "name": "stdout",
     "output_type": "stream",
     "text": [
      "        Time1  Time2  Mech Data new_column\n",
      "0        0.01   0.05   0.244506       None\n",
      "1        0.02   0.05   0.235940       None\n",
      "2        0.03   0.05   0.000133       None\n",
      "3        0.04   0.06   0.244506       None\n",
      "4        0.05   0.06   0.235940   0.160193\n",
      "...       ...    ...        ...        ...\n",
      "599995    NaN    NaN        NaN       None\n",
      "599996    NaN    NaN        NaN       None\n",
      "599997    NaN    NaN        NaN       None\n",
      "599998    NaN    NaN        NaN       None\n",
      "599999    NaN    NaN        NaN       None\n",
      "\n",
      "[600000 rows x 4 columns]\n"
     ]
    }
   ],
   "source": [
    "import pandas as pd\n",
    "\n",
    "# Read the CSV file into a DataFrame\n",
    "df = pd.read_csv(\"C:/Users/4nm20/OneDrive/Desktop/major_proj/assigned/Book2.csv\")\n",
    "\n",
    "# Initialize a new column 'new_column' with NaN\n",
    "df['new_column'] = None\n",
    "\n",
    "# Iterate through the rows of the DataFrame\n",
    "for index, row in df.iterrows():\n",
    "    matching_rows = df[df['Time2'] == row['Time1']]\n",
    "    \n",
    "    if not matching_rows.empty:\n",
    "        # Calculate the average of 'Mech Data' values for matching 'Time2' rows\n",
    "        average_value = matching_rows['Mech Data'].mean()\n",
    "        df.at[index, 'new_column'] = average_value\n",
    "\n",
    "# Create a new DataFrame containing only the desired columns\n",
    "new_data = df[['Time1', 'Time2', 'Mech Data', 'new_column']]\n",
    "\n",
    "# Save the new DataFrame to a CSV file\n",
    "new_data.to_csv(\"updated_data_new_2.csv\", index=False)\n",
    "\n",
    "# Display the new DataFrame\n",
    "print(new_data)"
   ]
  },
  {
   "cell_type": "code",
   "execution_count": 20,
   "metadata": {},
   "outputs": [
    {
     "name": "stdout",
     "output_type": "stream",
     "text": [
      "          Time1        A             B         C\n",
      "4          0.05  33000.0 -5.690000e-07  0.160193\n",
      "5          0.06  26900.0 -5.610000e-07  0.242365\n",
      "6          0.07  23200.0 -5.240000e-07  0.000133\n",
      "7          0.08  21200.0 -5.710000e-07  0.181807\n",
      "8          0.09  20100.0 -5.110000e-07  0.242373\n",
      "...         ...      ...           ...       ...\n",
      "422031  4220.35  19800.0 -1.170000e-07  0.113795\n",
      "422033  4220.37  20100.0 -1.380000e-07  0.113795\n",
      "422034  4220.38  19800.0 -1.230000e-07  0.113795\n",
      "422036  4220.40  21300.0 -1.190000e-07  0.113795\n",
      "422037  4220.41  23000.0 -1.350000e-07  0.113675\n",
      "\n",
      "[282653 rows x 4 columns]\n"
     ]
    }
   ],
   "source": [
    "import pandas as pd\n",
    "\n",
    "# Define the path to your CSV file\n",
    "csv_file_path = \"C:/Users/4nm20/OneDrive/Desktop/major_proj/assigned/Book2.csv\"\n",
    "\n",
    "# Read the CSV file into a DataFrame\n",
    "df = pd.read_csv(csv_file_path)\n",
    "\n",
    "# Specify the column where you want to remove rows with null values\n",
    "column_name = 'C'\n",
    "\n",
    "# Remove rows with null values in the specified column\n",
    "df.dropna(subset=[column_name], inplace=True)\n",
    "\n",
    "# Save the resulting DataFrame back to a new CSV file (optional)\n",
    "output_csv_path = 'new_file.csv'\n",
    "df.to_csv(output_csv_path, index=False)\n",
    "\n",
    "# Display the resulting DataFrame\n",
    "print(df)"
   ]
  },
  {
   "cell_type": "code",
   "execution_count": null,
   "metadata": {},
   "outputs": [],
   "source": []
  }
 ],
 "metadata": {
  "kernelspec": {
   "display_name": "Python 3 (ipykernel)",
   "language": "python",
   "name": "python3"
  },
  "language_info": {
   "codemirror_mode": {
    "name": "ipython",
    "version": 3
   },
   "file_extension": ".py",
   "mimetype": "text/x-python",
   "name": "python",
   "nbconvert_exporter": "python",
   "pygments_lexer": "ipython3",
   "version": "3.10.9"
  }
 },
 "nbformat": 4,
 "nbformat_minor": 2
}
