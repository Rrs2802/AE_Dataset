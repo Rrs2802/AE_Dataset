{
 "cells": [
  {
   "cell_type": "code",
   "execution_count": 1,
   "metadata": {},
   "outputs": [],
   "source": [
    "import pandas as pd"
   ]
  },
  {
   "cell_type": "code",
   "execution_count": 2,
   "metadata": {},
   "outputs": [],
   "source": [
    "# Read the CSV file into a DataFrame\n",
    "df = pd.read_csv('Book 311.csv')"
   ]
  },
  {
   "cell_type": "code",
   "execution_count": 3,
   "metadata": {},
   "outputs": [
    {
     "name": "stdout",
     "output_type": "stream",
     "text": [
      "   Time1  Time2  Mech Data\n",
      "0   0.01  0.047   0.035542\n",
      "1   0.02  0.067   0.035542\n",
      "2   0.03  0.076   0.035747\n",
      "3   0.04  0.091   0.035747\n",
      "4   0.05  0.106   0.035747\n"
     ]
    }
   ],
   "source": [
    "print(df.head())"
   ]
  },
  {
   "cell_type": "code",
   "execution_count": 4,
   "metadata": {},
   "outputs": [
    {
     "name": "stdout",
     "output_type": "stream",
     "text": [
      "   Time1  Time2  Mech Data\n",
      "0   0.01   0.05   0.035542\n",
      "1   0.02   0.07   0.035542\n",
      "2   0.03   0.08   0.035747\n",
      "3   0.04   0.09   0.035747\n",
      "4   0.05   0.11   0.035747\n"
     ]
    }
   ],
   "source": [
    "df.Time2 = df.Time2.round(2)\n",
    "print(df.head())"
   ]
  },
  {
   "cell_type": "code",
   "execution_count": 5,
   "metadata": {},
   "outputs": [],
   "source": [
    "for index, row in df.iterrows():\n",
    "    first_col_value = row['Time1']  \n",
    "    third_col_value = row['Mech Data']"
   ]
  },
  {
   "cell_type": "code",
   "execution_count": 6,
   "metadata": {},
   "outputs": [],
   "source": [
    "df['new_column'] = None"
   ]
  },
  {
   "cell_type": "code",
   "execution_count": 7,
   "metadata": {},
   "outputs": [],
   "source": [
    "for index, row in df.iterrows():\n",
    "    matching_rows = df[df['Time2'] == row['Time1']]\n",
    "    if not matching_rows.empty:\n",
    "        matched_value = matching_rows.iloc[0]['Mech Data']\n",
    "        df.at[index, 'new_column'] = matched_value"
   ]
  },
  {
   "cell_type": "code",
   "execution_count": 8,
   "metadata": {},
   "outputs": [
    {
     "name": "stdout",
     "output_type": "stream",
     "text": [
      "        Time1   Time2  Mech Data new_column\n",
      "0        0.01    0.05   0.035542       None\n",
      "1        0.02    0.07   0.035542       None\n",
      "2        0.03    0.08   0.035747       None\n",
      "3        0.04    0.09   0.035747       None\n",
      "4        0.05    0.11   0.035747   0.035542\n",
      "...       ...     ...        ...        ...\n",
      "17172  171.73  253.57   0.032036       None\n",
      "17173  171.74  253.59   0.032036   0.037181\n",
      "17174  171.75  253.60   0.031373   0.035084\n",
      "17175  171.76  253.62   0.031373       None\n",
      "17176  171.77  253.63   0.031373   0.035084\n",
      "\n",
      "[17177 rows x 4 columns]\n"
     ]
    }
   ],
   "source": [
    "print(df)"
   ]
  },
  {
   "cell_type": "code",
   "execution_count": 9,
   "metadata": {},
   "outputs": [],
   "source": [
    "new_data = df[['Time1', 'Time2', 'Mech Data','new_column']]\n",
    "new_data.to_csv(\"updated_data.csv\", index=False)"
   ]
  },
  {
   "cell_type": "code",
   "execution_count": 15,
   "metadata": {},
   "outputs": [
    {
     "name": "stdout",
     "output_type": "stream",
     "text": [
      "Total rows:  17177\n",
      "Number of null values:  5552\n"
     ]
    }
   ],
   "source": [
    "null_count=df['new_column'].isnull().sum()\n",
    "num_rows=df.shape[0]\n",
    "print(\"Total rows: \",num_rows)\n",
    "print(\"Number of null values: \",null_count)"
   ]
  },
  {
   "cell_type": "code",
   "execution_count": 16,
   "metadata": {},
   "outputs": [
    {
     "name": "stdout",
     "output_type": "stream",
     "text": [
      "Percentage of null values:  32.322291436222855\n"
     ]
    }
   ],
   "source": [
    "null_percent=df['new_column'].isnull().mean()*100\n",
    "print(\"Percentage of null values: \",null_percent)"
   ]
  }
 ],
 "metadata": {
  "kernelspec": {
   "display_name": "Python 3 (ipykernel)",
   "language": "python",
   "name": "python3"
  },
  "language_info": {
   "codemirror_mode": {
    "name": "ipython",
    "version": 3
   },
   "file_extension": ".py",
   "mimetype": "text/x-python",
   "name": "python",
   "nbconvert_exporter": "python",
   "pygments_lexer": "ipython3",
   "version": "3.10.9"
  }
 },
 "nbformat": 4,
 "nbformat_minor": 2
}
